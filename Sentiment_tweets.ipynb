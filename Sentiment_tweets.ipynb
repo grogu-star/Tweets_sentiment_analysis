{
 "cells": [
  {
   "cell_type": "code",
   "execution_count": 12,
   "metadata": {},
   "outputs": [],
   "source": [
    "import pandas as pd\n",
    "import pysentiment as ps\n",
    "from nltk.tokenize import sent_tokenize, word_tokenize\n",
    "import matplotlib.pyplot as plt\n",
    "from matplotlib.pyplot import figure\n",
    "import re\n",
    "import nltk\n",
    "from nltk.sentiment.vader import SentimentIntensityAnalyzer\n",
    "import numpy as np"
   ]
  },
  {
   "cell_type": "code",
   "execution_count": 13,
   "metadata": {
    "scrolled": true
   },
   "outputs": [
    {
     "data": {
      "text/html": [
       "<div>\n",
       "<style scoped>\n",
       "    .dataframe tbody tr th:only-of-type {\n",
       "        vertical-align: middle;\n",
       "    }\n",
       "\n",
       "    .dataframe tbody tr th {\n",
       "        vertical-align: top;\n",
       "    }\n",
       "\n",
       "    .dataframe thead th {\n",
       "        text-align: right;\n",
       "    }\n",
       "</style>\n",
       "<table border=\"1\" class=\"dataframe\">\n",
       "  <thead>\n",
       "    <tr style=\"text-align: right;\">\n",
       "      <th></th>\n",
       "      <th>id</th>\n",
       "      <th>conversation_id</th>\n",
       "      <th>created_at</th>\n",
       "      <th>date</th>\n",
       "      <th>time</th>\n",
       "      <th>timezone</th>\n",
       "      <th>user_id</th>\n",
       "      <th>username</th>\n",
       "      <th>name</th>\n",
       "      <th>place</th>\n",
       "      <th>...</th>\n",
       "      <th>geo</th>\n",
       "      <th>source</th>\n",
       "      <th>user_rt_id</th>\n",
       "      <th>user_rt</th>\n",
       "      <th>retweet_id</th>\n",
       "      <th>reply_to</th>\n",
       "      <th>retweet_date</th>\n",
       "      <th>translate</th>\n",
       "      <th>trans_src</th>\n",
       "      <th>trans_dest</th>\n",
       "    </tr>\n",
       "  </thead>\n",
       "  <tbody>\n",
       "    <tr>\n",
       "      <th>0</th>\n",
       "      <td>1348731900492353536</td>\n",
       "      <td>1348730117413957632</td>\n",
       "      <td>2021-01-11 23:41:57 Russia TZ 2 Standard Time</td>\n",
       "      <td>2021-01-11</td>\n",
       "      <td>23:41:57</td>\n",
       "      <td>300</td>\n",
       "      <td>794047025624952832</td>\n",
       "      <td>jakeypoohlv</td>\n",
       "      <td>🏳️‍🌈🌹Jake Galardi Marko🌹🏳️‍🌈</td>\n",
       "      <td>NaN</td>\n",
       "      <td>...</td>\n",
       "      <td>39.833333,-98.583333,1800km</td>\n",
       "      <td>NaN</td>\n",
       "      <td>NaN</td>\n",
       "      <td>NaN</td>\n",
       "      <td>NaN</td>\n",
       "      <td>[{'screen_name': 'OurRevolutionNV', 'name': 'O...</td>\n",
       "      <td>NaN</td>\n",
       "      <td>NaN</td>\n",
       "      <td>NaN</td>\n",
       "      <td>NaN</td>\n",
       "    </tr>\n",
       "    <tr>\n",
       "      <th>1</th>\n",
       "      <td>1348669317538217984</td>\n",
       "      <td>1348669317538217984</td>\n",
       "      <td>2021-01-11 19:33:17 Russia TZ 2 Standard Time</td>\n",
       "      <td>2021-01-11</td>\n",
       "      <td>19:33:17</td>\n",
       "      <td>300</td>\n",
       "      <td>1114970489942753280</td>\n",
       "      <td>buddjenn</td>\n",
       "      <td>Jenn Budd</td>\n",
       "      <td>NaN</td>\n",
       "      <td>...</td>\n",
       "      <td>39.833333,-98.583333,1800km</td>\n",
       "      <td>NaN</td>\n",
       "      <td>NaN</td>\n",
       "      <td>NaN</td>\n",
       "      <td>NaN</td>\n",
       "      <td>[]</td>\n",
       "      <td>NaN</td>\n",
       "      <td>NaN</td>\n",
       "      <td>NaN</td>\n",
       "      <td>NaN</td>\n",
       "    </tr>\n",
       "  </tbody>\n",
       "</table>\n",
       "<p>2 rows × 36 columns</p>\n",
       "</div>"
      ],
      "text/plain": [
       "                    id      conversation_id  \\\n",
       "0  1348731900492353536  1348730117413957632   \n",
       "1  1348669317538217984  1348669317538217984   \n",
       "\n",
       "                                      created_at       date      time  \\\n",
       "0  2021-01-11 23:41:57 Russia TZ 2 Standard Time 2021-01-11  23:41:57   \n",
       "1  2021-01-11 19:33:17 Russia TZ 2 Standard Time 2021-01-11  19:33:17   \n",
       "\n",
       "   timezone              user_id     username                          name  \\\n",
       "0       300   794047025624952832  jakeypoohlv  🏳️‍🌈🌹Jake Galardi Marko🌹🏳️‍🌈   \n",
       "1       300  1114970489942753280     buddjenn                     Jenn Budd   \n",
       "\n",
       "   place  ...                          geo source user_rt_id user_rt  \\\n",
       "0    NaN  ...  39.833333,-98.583333,1800km    NaN        NaN     NaN   \n",
       "1    NaN  ...  39.833333,-98.583333,1800km    NaN        NaN     NaN   \n",
       "\n",
       "  retweet_id                                           reply_to  retweet_date  \\\n",
       "0        NaN  [{'screen_name': 'OurRevolutionNV', 'name': 'O...           NaN   \n",
       "1        NaN                                                 []           NaN   \n",
       "\n",
       "   translate trans_src trans_dest  \n",
       "0        NaN       NaN        NaN  \n",
       "1        NaN       NaN        NaN  \n",
       "\n",
       "[2 rows x 36 columns]"
      ]
     },
     "execution_count": 13,
     "metadata": {},
     "output_type": "execute_result"
    }
   ],
   "source": [
    "tweets = pd.read_excel('C:/Users/marga/Desktop/git/example_data.xlsx'\n",
    "                    , parse_dates=['date'])\n",
    "tweets.head(2)"
   ]
  },
  {
   "cell_type": "code",
   "execution_count": 14,
   "metadata": {},
   "outputs": [
    {
     "data": {
      "text/plain": [
       "0     Nealry 400k Americans have died &amp; 16 mill...\n",
       "1    I find it bizarre that anyone thinks Trump may...\n",
       "2    Maybe your followers died from  Perhaps your b...\n",
       "Name: tweet, dtype: object"
      ]
     },
     "execution_count": 14,
     "metadata": {},
     "output_type": "execute_result"
    }
   ],
   "source": [
    "#Data cleaning\n",
    "\n",
    "def text_only(x):\n",
    "    return re.sub(r\"(?:@\\S*|#\\S*|http(?=.*://)\\S*)\", \"\", x)\n",
    "\n",
    "tweets = pd.DataFrame(tweets, columns = ['date', 'tweet','retweets_count'])\n",
    "tweets['tweet'] = tweets['tweet'].apply(text_only)\n",
    "tweets['tweet'].head(3)"
   ]
  },
  {
   "cell_type": "markdown",
   "metadata": {},
   "source": [
    "### Оценка тональности по словарю General Inquirer (Harvard IV-4 и Laswell)"
   ]
  },
  {
   "cell_type": "code",
   "execution_count": 15,
   "metadata": {},
   "outputs": [
    {
     "name": "stderr",
     "output_type": "stream",
     "text": [
      "C:\\Users\\marga\\anaconda31\\lib\\site-packages\\IPython\\core\\interactiveshell.py:3418: DtypeWarning: Columns (63,108,109,110,176) have mixed types.Specify dtype option on import or set low_memory=False.\n",
      "  exec(code_obj, self.user_global_ns, self.user_ns)\n"
     ]
    }
   ],
   "source": [
    "t = pd.Series(tweets['tweet'])\n",
    "\n",
    "hiv4 = ps.HIV4()\n",
    "hscore = []\n",
    "for i in t:\n",
    "    #print(i)\n",
    "    tokens = hiv4.tokenize(i)\n",
    "    score = hiv4.get_score(tokens)\n",
    "    hscore.append(score)"
   ]
  },
  {
   "cell_type": "code",
   "execution_count": 16,
   "metadata": {},
   "outputs": [
    {
     "data": {
      "text/html": [
       "<div>\n",
       "<style scoped>\n",
       "    .dataframe tbody tr th:only-of-type {\n",
       "        vertical-align: middle;\n",
       "    }\n",
       "\n",
       "    .dataframe tbody tr th {\n",
       "        vertical-align: top;\n",
       "    }\n",
       "\n",
       "    .dataframe thead th {\n",
       "        text-align: right;\n",
       "    }\n",
       "</style>\n",
       "<table border=\"1\" class=\"dataframe\">\n",
       "  <thead>\n",
       "    <tr style=\"text-align: right;\">\n",
       "      <th></th>\n",
       "      <th>date</th>\n",
       "      <th>tweet</th>\n",
       "      <th>retweets_count</th>\n",
       "      <th>Positive</th>\n",
       "      <th>Negative</th>\n",
       "      <th>Polarity</th>\n",
       "      <th>Subjectivity</th>\n",
       "    </tr>\n",
       "  </thead>\n",
       "  <tbody>\n",
       "    <tr>\n",
       "      <th>0</th>\n",
       "      <td>2021-01-11</td>\n",
       "      <td>Nealry 400k Americans have died &amp;amp; 16 mill...</td>\n",
       "      <td>13</td>\n",
       "      <td>3</td>\n",
       "      <td>3</td>\n",
       "      <td>0.000000</td>\n",
       "      <td>0.400000</td>\n",
       "    </tr>\n",
       "    <tr>\n",
       "      <th>1</th>\n",
       "      <td>2021-01-11</td>\n",
       "      <td>I find it bizarre that anyone thinks Trump may...</td>\n",
       "      <td>5</td>\n",
       "      <td>1</td>\n",
       "      <td>2</td>\n",
       "      <td>-0.333333</td>\n",
       "      <td>0.300000</td>\n",
       "    </tr>\n",
       "    <tr>\n",
       "      <th>2</th>\n",
       "      <td>2021-01-11</td>\n",
       "      <td>Maybe your followers died from  Perhaps your b...</td>\n",
       "      <td>8</td>\n",
       "      <td>1</td>\n",
       "      <td>1</td>\n",
       "      <td>0.000000</td>\n",
       "      <td>0.333333</td>\n",
       "    </tr>\n",
       "  </tbody>\n",
       "</table>\n",
       "</div>"
      ],
      "text/plain": [
       "        date                                              tweet  \\\n",
       "0 2021-01-11   Nealry 400k Americans have died &amp; 16 mill...   \n",
       "1 2021-01-11  I find it bizarre that anyone thinks Trump may...   \n",
       "2 2021-01-11  Maybe your followers died from  Perhaps your b...   \n",
       "\n",
       "   retweets_count  Positive  Negative  Polarity  Subjectivity  \n",
       "0              13         3         3  0.000000      0.400000  \n",
       "1               5         1         2 -0.333333      0.300000  \n",
       "2               8         1         1  0.000000      0.333333  "
      ]
     },
     "execution_count": 16,
     "metadata": {},
     "output_type": "execute_result"
    }
   ],
   "source": [
    "df = pd.DataFrame(hscore)\n",
    "harvard_lex = tweets.join(df, rsuffix='_right')\n",
    "harvard_lex =pd.DataFrame(harvard_lex, columns = ['date', 'tweet','retweets_count','Positive','Negative', 'Polarity', 'Subjectivity'])\n",
    "harvard_lex.head(3)"
   ]
  },
  {
   "cell_type": "code",
   "execution_count": 17,
   "metadata": {},
   "outputs": [],
   "source": [
    "#Сохранение \n",
    "#harvard_lex.to_excel('results')"
   ]
  },
  {
   "cell_type": "code",
   "execution_count": 18,
   "metadata": {},
   "outputs": [],
   "source": [
    "#избавляемся от нейтральных твитов\n",
    "harvard_lex = harvard_lex[harvard_lex['Polarity'] !=0]"
   ]
  },
  {
   "cell_type": "code",
   "execution_count": 19,
   "metadata": {},
   "outputs": [
    {
     "data": {
      "text/plain": [
       "[<matplotlib.lines.Line2D at 0x260339aefa0>]"
      ]
     },
     "execution_count": 19,
     "metadata": {},
     "output_type": "execute_result"
    },
    {
     "data": {
      "image/png": "[encoded data removed]",
      "text/plain": [
       "<Figure size 1152x360 with 1 Axes>"
      ]
     },
     "metadata": {
      "needs_background": "light"
     },
     "output_type": "display_data"
    }
   ],
   "source": [
    "hv_day = harvard_lex.groupby(pd.Grouper(key=\"date\", freq=\"D\"))['Polarity'].mean().reset_index()\n",
    "# Сохранение\n",
    "#hv_day.to_excel('results_hv.xlsx')\n",
    "\n",
    "figure(figsize=(16,5))\n",
    "plt.plot(hv_day['Polarity'])"
   ]
  },
  {
   "cell_type": "markdown",
   "metadata": {},
   "source": [
    "## Оценка тональности по словарю Loughran & McDonald"
   ]
  },
  {
   "cell_type": "code",
   "execution_count": 20,
   "metadata": {},
   "outputs": [],
   "source": [
    "lm = ps.LM()\n",
    "lmscore = []\n",
    "for i in t:\n",
    "    tokens = lm.tokenize(i)\n",
    "    score = lm.get_score(tokens)\n",
    "    lmscore.append(score)"
   ]
  },
  {
   "cell_type": "code",
   "execution_count": 21,
   "metadata": {
    "scrolled": true
   },
   "outputs": [
    {
     "data": {
      "text/html": [
       "<div>\n",
       "<style scoped>\n",
       "    .dataframe tbody tr th:only-of-type {\n",
       "        vertical-align: middle;\n",
       "    }\n",
       "\n",
       "    .dataframe tbody tr th {\n",
       "        vertical-align: top;\n",
       "    }\n",
       "\n",
       "    .dataframe thead th {\n",
       "        text-align: right;\n",
       "    }\n",
       "</style>\n",
       "<table border=\"1\" class=\"dataframe\">\n",
       "  <thead>\n",
       "    <tr style=\"text-align: right;\">\n",
       "      <th></th>\n",
       "      <th>date</th>\n",
       "      <th>tweet</th>\n",
       "      <th>retweets_count</th>\n",
       "      <th>Positive</th>\n",
       "      <th>Negative</th>\n",
       "      <th>Polarity</th>\n",
       "      <th>Subjectivity</th>\n",
       "    </tr>\n",
       "  </thead>\n",
       "  <tbody>\n",
       "    <tr>\n",
       "      <th>0</th>\n",
       "      <td>2021-01-11</td>\n",
       "      <td>Nealry 400k Americans have died &amp;amp; 16 mill...</td>\n",
       "      <td>13</td>\n",
       "      <td>1</td>\n",
       "      <td>2</td>\n",
       "      <td>-0.333333</td>\n",
       "      <td>0.200000</td>\n",
       "    </tr>\n",
       "    <tr>\n",
       "      <th>1</th>\n",
       "      <td>2021-01-11</td>\n",
       "      <td>I find it bizarre that anyone thinks Trump may...</td>\n",
       "      <td>5</td>\n",
       "      <td>0</td>\n",
       "      <td>0</td>\n",
       "      <td>0.000000</td>\n",
       "      <td>0.000000</td>\n",
       "    </tr>\n",
       "    <tr>\n",
       "      <th>2</th>\n",
       "      <td>2021-01-11</td>\n",
       "      <td>Maybe your followers died from  Perhaps your b...</td>\n",
       "      <td>8</td>\n",
       "      <td>1</td>\n",
       "      <td>0</td>\n",
       "      <td>0.999999</td>\n",
       "      <td>0.166667</td>\n",
       "    </tr>\n",
       "  </tbody>\n",
       "</table>\n",
       "</div>"
      ],
      "text/plain": [
       "        date                                              tweet  \\\n",
       "0 2021-01-11   Nealry 400k Americans have died &amp; 16 mill...   \n",
       "1 2021-01-11  I find it bizarre that anyone thinks Trump may...   \n",
       "2 2021-01-11  Maybe your followers died from  Perhaps your b...   \n",
       "\n",
       "   retweets_count  Positive  Negative  Polarity  Subjectivity  \n",
       "0              13         1         2 -0.333333      0.200000  \n",
       "1               5         0         0  0.000000      0.000000  \n",
       "2               8         1         0  0.999999      0.166667  "
      ]
     },
     "execution_count": 21,
     "metadata": {},
     "output_type": "execute_result"
    }
   ],
   "source": [
    "df1 = pd.DataFrame(lmscore)\n",
    "lm_lex = tweets.join(df1, rsuffix='_right')\n",
    "lm_lex =pd.DataFrame(lm_lex, columns = ['date', 'tweet','retweets_count','Positive','Negative', 'Polarity', 'Subjectivity'])\n",
    "lm_lex.to_excel('results_lm.xlsx')\n",
    "lm_lex.head(3)"
   ]
  },
  {
   "cell_type": "code",
   "execution_count": 22,
   "metadata": {},
   "outputs": [],
   "source": [
    "#избавляемся от нейтральных твитов\n",
    "lm_lex = lm_lex[lm_lex['Polarity'] !=0]"
   ]
  },
  {
   "cell_type": "code",
   "execution_count": 23,
   "metadata": {},
   "outputs": [
    {
     "data": {
      "text/plain": [
       "[<matplotlib.lines.Line2D at 0x2603415a160>]"
      ]
     },
     "execution_count": 23,
     "metadata": {},
     "output_type": "execute_result"
    },
    {
     "data": {
      "image/png": "[encoded data removed]",
      "text/plain": [
       "<Figure size 1152x360 with 1 Axes>"
      ]
     },
     "metadata": {
      "needs_background": "light"
     },
     "output_type": "display_data"
    }
   ],
   "source": [
    "lm_day = lm_lex.groupby(pd.Grouper(key=\"date\", freq=\"D\"))['Polarity'].mean().reset_index()\n",
    "#Сохранение\n",
    "#lm_day.to_excel('results_lm_day.xlsx')\n",
    "\n",
    "figure(figsize=(16,5))\n",
    "plt.plot(lm_day['Polarity'])"
   ]
  },
  {
   "cell_type": "markdown",
   "metadata": {},
   "source": [
    "## Оценка тональности по Vader"
   ]
  },
  {
   "cell_type": "code",
   "execution_count": 24,
   "metadata": {},
   "outputs": [
    {
     "data": {
      "text/html": [
       "<div>\n",
       "<style scoped>\n",
       "    .dataframe tbody tr th:only-of-type {\n",
       "        vertical-align: middle;\n",
       "    }\n",
       "\n",
       "    .dataframe tbody tr th {\n",
       "        vertical-align: top;\n",
       "    }\n",
       "\n",
       "    .dataframe thead th {\n",
       "        text-align: right;\n",
       "    }\n",
       "</style>\n",
       "<table border=\"1\" class=\"dataframe\">\n",
       "  <thead>\n",
       "    <tr style=\"text-align: right;\">\n",
       "      <th></th>\n",
       "      <th>date</th>\n",
       "      <th>tweet</th>\n",
       "      <th>retweets_count</th>\n",
       "    </tr>\n",
       "  </thead>\n",
       "  <tbody>\n",
       "    <tr>\n",
       "      <th>0</th>\n",
       "      <td>2021-01-11</td>\n",
       "      <td>Nealry 400k Americans have died &amp;amp; 16 mill...</td>\n",
       "      <td>13</td>\n",
       "    </tr>\n",
       "    <tr>\n",
       "      <th>1</th>\n",
       "      <td>2021-01-11</td>\n",
       "      <td>I find it bizarre that anyone thinks Trump may...</td>\n",
       "      <td>5</td>\n",
       "    </tr>\n",
       "    <tr>\n",
       "      <th>2</th>\n",
       "      <td>2021-01-11</td>\n",
       "      <td>Maybe your followers died from  Perhaps your b...</td>\n",
       "      <td>8</td>\n",
       "    </tr>\n",
       "  </tbody>\n",
       "</table>\n",
       "</div>"
      ],
      "text/plain": [
       "        date                                              tweet  \\\n",
       "0 2021-01-11   Nealry 400k Americans have died &amp; 16 mill...   \n",
       "1 2021-01-11  I find it bizarre that anyone thinks Trump may...   \n",
       "2 2021-01-11  Maybe your followers died from  Perhaps your b...   \n",
       "\n",
       "   retweets_count  \n",
       "0              13  \n",
       "1               5  \n",
       "2               8  "
      ]
     },
     "execution_count": 24,
     "metadata": {},
     "output_type": "execute_result"
    }
   ],
   "source": [
    "tweets.head(3)"
   ]
  },
  {
   "cell_type": "code",
   "execution_count": 25,
   "metadata": {
    "scrolled": true
   },
   "outputs": [
    {
     "data": {
      "text/html": [
       "<div>\n",
       "<style scoped>\n",
       "    .dataframe tbody tr th:only-of-type {\n",
       "        vertical-align: middle;\n",
       "    }\n",
       "\n",
       "    .dataframe tbody tr th {\n",
       "        vertical-align: top;\n",
       "    }\n",
       "\n",
       "    .dataframe thead th {\n",
       "        text-align: right;\n",
       "    }\n",
       "</style>\n",
       "<table border=\"1\" class=\"dataframe\">\n",
       "  <thead>\n",
       "    <tr style=\"text-align: right;\">\n",
       "      <th></th>\n",
       "      <th>date</th>\n",
       "      <th>tweet</th>\n",
       "      <th>retweets_count</th>\n",
       "      <th>compound</th>\n",
       "      <th>neg</th>\n",
       "      <th>neu</th>\n",
       "      <th>pos</th>\n",
       "    </tr>\n",
       "  </thead>\n",
       "  <tbody>\n",
       "    <tr>\n",
       "      <th>0</th>\n",
       "      <td>2021-01-11</td>\n",
       "      <td>Nealry 400k Americans have died &amp;amp; 16 mill...</td>\n",
       "      <td>13</td>\n",
       "      <td>-0.8950</td>\n",
       "      <td>0.252</td>\n",
       "      <td>0.748</td>\n",
       "      <td>0.000</td>\n",
       "    </tr>\n",
       "    <tr>\n",
       "      <th>1</th>\n",
       "      <td>2021-01-11</td>\n",
       "      <td>I find it bizarre that anyone thinks Trump may...</td>\n",
       "      <td>5</td>\n",
       "      <td>0.5719</td>\n",
       "      <td>0.081</td>\n",
       "      <td>0.707</td>\n",
       "      <td>0.212</td>\n",
       "    </tr>\n",
       "    <tr>\n",
       "      <th>2</th>\n",
       "      <td>2021-01-11</td>\n",
       "      <td>Maybe your followers died from  Perhaps your b...</td>\n",
       "      <td>8</td>\n",
       "      <td>-0.1779</td>\n",
       "      <td>0.206</td>\n",
       "      <td>0.629</td>\n",
       "      <td>0.166</td>\n",
       "    </tr>\n",
       "  </tbody>\n",
       "</table>\n",
       "</div>"
      ],
      "text/plain": [
       "        date                                              tweet  \\\n",
       "0 2021-01-11   Nealry 400k Americans have died &amp; 16 mill...   \n",
       "1 2021-01-11  I find it bizarre that anyone thinks Trump may...   \n",
       "2 2021-01-11  Maybe your followers died from  Perhaps your b...   \n",
       "\n",
       "   retweets_count  compound    neg    neu    pos  \n",
       "0              13   -0.8950  0.252  0.748  0.000  \n",
       "1               5    0.5719  0.081  0.707  0.212  \n",
       "2               8   -0.1779  0.206  0.629  0.166  "
      ]
     },
     "execution_count": 25,
     "metadata": {},
     "output_type": "execute_result"
    }
   ],
   "source": [
    "analyzer = SentimentIntensityAnalyzer()\n",
    "scores = tweets['tweet'].apply(analyzer.polarity_scores).tolist()\n",
    "\n",
    "df_scores = pd.DataFrame(scores,columns = ['compound','neg', 'neu', 'pos'])\n",
    "vader = tweets.join(df_scores, rsuffix='_right')\n",
    "vader.head(3)"
   ]
  },
  {
   "cell_type": "code",
   "execution_count": 26,
   "metadata": {},
   "outputs": [],
   "source": [
    "#Cохранение\n",
    "#vader.to_excel('results_vader.xlsx')"
   ]
  },
  {
   "cell_type": "code",
   "execution_count": 27,
   "metadata": {},
   "outputs": [],
   "source": [
    "#избавляемся от нейтральных твитов\n",
    "vader = vader[vader['compound'] !=0]"
   ]
  },
  {
   "cell_type": "code",
   "execution_count": 28,
   "metadata": {},
   "outputs": [],
   "source": [
    "dm_mean = vader.groupby(pd.Grouper(key=\"date\", freq=\"D\"))['compound'].mean().reset_index()\n",
    "dm_mean = dm_mean.rename(columns = {'compound': 'dm'})"
   ]
  },
  {
   "cell_type": "code",
   "execution_count": 29,
   "metadata": {},
   "outputs": [
    {
     "data": {
      "text/plain": [
       "[<matplotlib.lines.Line2D at 0x26033a1e040>]"
      ]
     },
     "execution_count": 29,
     "metadata": {},
     "output_type": "execute_result"
    },
    {
     "data": {
      "image/png": "[encoded data removed]",
      "text/plain": [
       "<Figure size 1152x360 with 1 Axes>"
      ]
     },
     "metadata": {
      "needs_background": "light"
     },
     "output_type": "display_data"
    }
   ],
   "source": [
    "dm_mean.to_excel(\"results_vd_day.xlsx\")\n",
    "\n",
    "figure(figsize=(16,5))\n",
    "plt.plot(dm_mean['dm'])\n"
   ]
  },
  {
   "cell_type": "code",
   "execution_count": 30,
   "metadata": {},
   "outputs": [
    {
     "data": {
      "text/html": [
       "<div>\n",
       "<style scoped>\n",
       "    .dataframe tbody tr th:only-of-type {\n",
       "        vertical-align: middle;\n",
       "    }\n",
       "\n",
       "    .dataframe tbody tr th {\n",
       "        vertical-align: top;\n",
       "    }\n",
       "\n",
       "    .dataframe thead th {\n",
       "        text-align: right;\n",
       "    }\n",
       "</style>\n",
       "<table border=\"1\" class=\"dataframe\">\n",
       "  <thead>\n",
       "    <tr style=\"text-align: right;\">\n",
       "      <th></th>\n",
       "      <th>date</th>\n",
       "      <th>tweet</th>\n",
       "      <th>retweets_count</th>\n",
       "      <th>compound</th>\n",
       "      <th>neg</th>\n",
       "      <th>neu</th>\n",
       "      <th>pos</th>\n",
       "      <th>formula1</th>\n",
       "      <th>formula2</th>\n",
       "    </tr>\n",
       "  </thead>\n",
       "  <tbody>\n",
       "    <tr>\n",
       "      <th>0</th>\n",
       "      <td>2021-01-11</td>\n",
       "      <td>Nealry 400k Americans have died &amp;amp; 16 mill...</td>\n",
       "      <td>13</td>\n",
       "      <td>-0.8950</td>\n",
       "      <td>0.252</td>\n",
       "      <td>0.748</td>\n",
       "      <td>0.000</td>\n",
       "      <td>-1.000000</td>\n",
       "      <td>-0.25200</td>\n",
       "    </tr>\n",
       "    <tr>\n",
       "      <th>1</th>\n",
       "      <td>2021-01-11</td>\n",
       "      <td>I find it bizarre that anyone thinks Trump may...</td>\n",
       "      <td>5</td>\n",
       "      <td>0.5719</td>\n",
       "      <td>0.081</td>\n",
       "      <td>0.707</td>\n",
       "      <td>0.212</td>\n",
       "      <td>0.447099</td>\n",
       "      <td>0.13100</td>\n",
       "    </tr>\n",
       "    <tr>\n",
       "      <th>2</th>\n",
       "      <td>2021-01-11</td>\n",
       "      <td>Maybe your followers died from  Perhaps your b...</td>\n",
       "      <td>8</td>\n",
       "      <td>-0.1779</td>\n",
       "      <td>0.206</td>\n",
       "      <td>0.629</td>\n",
       "      <td>0.166</td>\n",
       "      <td>-0.107527</td>\n",
       "      <td>-0.03996</td>\n",
       "    </tr>\n",
       "  </tbody>\n",
       "</table>\n",
       "</div>"
      ],
      "text/plain": [
       "        date                                              tweet  \\\n",
       "0 2021-01-11   Nealry 400k Americans have died &amp; 16 mill...   \n",
       "1 2021-01-11  I find it bizarre that anyone thinks Trump may...   \n",
       "2 2021-01-11  Maybe your followers died from  Perhaps your b...   \n",
       "\n",
       "   retweets_count  compound    neg    neu    pos  formula1  formula2  \n",
       "0              13   -0.8950  0.252  0.748  0.000 -1.000000  -0.25200  \n",
       "1               5    0.5719  0.081  0.707  0.212  0.447099   0.13100  \n",
       "2               8   -0.1779  0.206  0.629  0.166 -0.107527  -0.03996  "
      ]
     },
     "execution_count": 30,
     "metadata": {},
     "output_type": "execute_result"
    }
   ],
   "source": [
    "#по формуле    \n",
    "formula1=(vader['pos']-vader['neg'])/(vader['pos']+vader['neg'])\n",
    "formula2=(vader['pos']-vader['neg'])/(vader['pos']+vader['neg']+vader['neu'])\n",
    "\n",
    "formula1 = pd.DataFrame(formula1, columns = ['formula1'])\n",
    "formula2 = pd.DataFrame(formula2, columns = ['formula2'])\n",
    "\n",
    "vader = vader.join(formula1,rsuffix='_right')\n",
    "vader = vader.join(formula2,rsuffix='_right')\n",
    "vader.head(3)"
   ]
  },
  {
   "cell_type": "code",
   "execution_count": 31,
   "metadata": {},
   "outputs": [],
   "source": [
    "formula1_mean = vader.groupby(pd.Grouper(key=\"date\", freq=\"D\"))['formula1'].mean().reset_index()\n",
    "formula2_mean = vader.groupby(pd.Grouper(key=\"date\", freq=\"D\"))['formula2'].mean().reset_index()"
   ]
  },
  {
   "cell_type": "code",
   "execution_count": 32,
   "metadata": {},
   "outputs": [
    {
     "data": {
      "text/plain": [
       "[<matplotlib.lines.Line2D at 0x260341cb460>]"
      ]
     },
     "execution_count": 32,
     "metadata": {},
     "output_type": "execute_result"
    },
    {
     "data": {
      "image/png": "[encoded data removed]",
      "text/plain": [
       "<Figure size 1152x360 with 1 Axes>"
      ]
     },
     "metadata": {
      "needs_background": "light"
     },
     "output_type": "display_data"
    }
   ],
   "source": [
    "#formula1_mean.to_excel(\"results_vd_formula1.xlsx\")\n",
    "\n",
    "figure(figsize=(16,5))\n",
    "plt.plot(formula1_mean['formula1'])"
   ]
  },
  {
   "cell_type": "code",
   "execution_count": 33,
   "metadata": {},
   "outputs": [
    {
     "data": {
      "text/plain": [
       "[<matplotlib.lines.Line2D at 0x260342ca730>]"
      ]
     },
     "execution_count": 33,
     "metadata": {},
     "output_type": "execute_result"
    },
    {
     "data": {
      "image/png": "[encoded data removed]",
      "text/plain": [
       "<Figure size 1152x360 with 1 Axes>"
      ]
     },
     "metadata": {
      "needs_background": "light"
     },
     "output_type": "display_data"
    }
   ],
   "source": [
    "#formula2_mean.to_excel(\"results_vd_formula2.xlsx\")\n",
    "\n",
    "figure(figsize=(16,5))\n",
    "plt.plot(formula2_mean['formula2'])"
   ]
  },
  {
   "cell_type": "markdown",
   "metadata": {},
   "source": [
    "## Оценка тональности по Senticnet"
   ]
  },
  {
   "cell_type": "code",
   "execution_count": 34,
   "metadata": {},
   "outputs": [],
   "source": [
    "from sentic import SenticPhrase"
   ]
  },
  {
   "cell_type": "code",
   "execution_count": 35,
   "metadata": {},
   "outputs": [],
   "source": [
    "sscore = []\n",
    "for i in t:\n",
    "    #print(i)\n",
    "    text = i\n",
    "    sp = SenticPhrase(text)\n",
    "    score = sp.get_polarity(text)\n",
    "    sscore.append(score)"
   ]
  },
  {
   "cell_type": "code",
   "execution_count": 36,
   "metadata": {},
   "outputs": [
    {
     "data": {
      "text/html": [
       "<div>\n",
       "<style scoped>\n",
       "    .dataframe tbody tr th:only-of-type {\n",
       "        vertical-align: middle;\n",
       "    }\n",
       "\n",
       "    .dataframe tbody tr th {\n",
       "        vertical-align: top;\n",
       "    }\n",
       "\n",
       "    .dataframe thead th {\n",
       "        text-align: right;\n",
       "    }\n",
       "</style>\n",
       "<table border=\"1\" class=\"dataframe\">\n",
       "  <thead>\n",
       "    <tr style=\"text-align: right;\">\n",
       "      <th></th>\n",
       "      <th>date</th>\n",
       "      <th>tweet</th>\n",
       "      <th>retweets_count</th>\n",
       "      <th>sentic</th>\n",
       "    </tr>\n",
       "  </thead>\n",
       "  <tbody>\n",
       "    <tr>\n",
       "      <th>0</th>\n",
       "      <td>2021-01-11</td>\n",
       "      <td>Nealry 400k Americans have died &amp;amp; 16 mill...</td>\n",
       "      <td>13</td>\n",
       "      <td>0.236364</td>\n",
       "    </tr>\n",
       "    <tr>\n",
       "      <th>1</th>\n",
       "      <td>2021-01-11</td>\n",
       "      <td>I find it bizarre that anyone thinks Trump may...</td>\n",
       "      <td>5</td>\n",
       "      <td>0.126000</td>\n",
       "    </tr>\n",
       "    <tr>\n",
       "      <th>2</th>\n",
       "      <td>2021-01-11</td>\n",
       "      <td>Maybe your followers died from  Perhaps your b...</td>\n",
       "      <td>8</td>\n",
       "      <td>0.451000</td>\n",
       "    </tr>\n",
       "  </tbody>\n",
       "</table>\n",
       "</div>"
      ],
      "text/plain": [
       "        date                                              tweet  \\\n",
       "0 2021-01-11   Nealry 400k Americans have died &amp; 16 mill...   \n",
       "1 2021-01-11  I find it bizarre that anyone thinks Trump may...   \n",
       "2 2021-01-11  Maybe your followers died from  Perhaps your b...   \n",
       "\n",
       "   retweets_count    sentic  \n",
       "0              13  0.236364  \n",
       "1               5  0.126000  \n",
       "2               8  0.451000  "
      ]
     },
     "execution_count": 36,
     "metadata": {},
     "output_type": "execute_result"
    }
   ],
   "source": [
    "df3 = pd.DataFrame(sscore,columns = ['sentic'])\n",
    "sentic = tweets.join(df3, rsuffix='_right')\n",
    "sentic.head(3)"
   ]
  },
  {
   "cell_type": "code",
   "execution_count": 37,
   "metadata": {},
   "outputs": [],
   "source": [
    "#избавляемся от нейтральных твитов\n",
    "sentic = sentic[sentic['sentic'] !=0]"
   ]
  },
  {
   "cell_type": "code",
   "execution_count": 38,
   "metadata": {},
   "outputs": [
    {
     "data": {
      "text/plain": [
       "[<matplotlib.lines.Line2D at 0x2602f42baf0>]"
      ]
     },
     "execution_count": 38,
     "metadata": {},
     "output_type": "execute_result"
    },
    {
     "data": {
      "image/png": "[encoded data removed]",
      "text/plain": [
       "<Figure size 1152x360 with 1 Axes>"
      ]
     },
     "metadata": {
      "needs_background": "light"
     },
     "output_type": "display_data"
    }
   ],
   "source": [
    "s_mean = sentic.groupby(pd.Grouper(key=\"date\", freq=\"D\"))['sentic'].mean().reset_index()\n",
    "s_mean.to_excel(\"results_sentic_day.xlsx\")\n",
    "\n",
    "\n",
    "figure(figsize=(16,5))\n",
    "plt.plot(s_mean['sentic'])"
   ]
  },
  {
   "cell_type": "code",
   "execution_count": null,
   "metadata": {},
   "outputs": [],
   "source": []
  }
 ],
 "metadata": {
  "kernelspec": {
   "display_name": "Python 3",
   "language": "python",
   "name": "python3"
  },
  "language_info": {
   "codemirror_mode": {
    "name": "ipython",
    "version": 3
   },
   "file_extension": ".py",
   "mimetype": "text/x-python",
   "name": "python",
   "nbconvert_exporter": "python",
   "pygments_lexer": "ipython3",
   "version": "3.8.5"
  }
 },
 "nbformat": 4,
 "nbformat_minor": 4
}
